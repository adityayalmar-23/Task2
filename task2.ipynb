{
 "cells": [
  {
   "cell_type": "code",
   "execution_count": 2,
   "id": "c5e411e9-4d5a-4c99-8e5f-778099f03ab1",
   "metadata": {},
   "outputs": [],
   "source": [
    "import pandas as pd\n",
    "import numpy as np\n",
    "import seaborn as sb\n",
    "import matplotlib.pyplot as plt"
   ]
  },
  {
   "cell_type": "code",
   "execution_count": 3,
   "id": "5c365236-d5cc-4afd-93be-c818c3200113",
   "metadata": {},
   "outputs": [],
   "source": [
    "ds=pd.read_csv(\"product_data.csv\")"
   ]
  },
  {
   "cell_type": "code",
   "execution_count": 30,
   "id": "ab6db4c9-e2a8-4e57-98c2-1c4917fea508",
   "metadata": {},
   "outputs": [
    {
     "name": "stdout",
     "output_type": "stream",
     "text": [
      "     CustomerID     Product    Price  Quantity       City PurchaseDate\n",
      "0          1052     Desktop  30000.0       4.0  Bangalore   2021-06-30\n",
      "1          1041     Desktop  30000.0       3.0      Delhi   2023-01-21\n",
      "2          1057  Smartphone  30000.0       2.0  Bangalore   2023-04-06\n",
      "3          1038      Tablet  45000.0       1.0    Chennai   2023-07-05\n",
      "4          1013  Smartphone  45000.0       3.0     Mumbai   2022-04-11\n",
      "5          1094      Laptop  60000.0       3.0     Mumbai   2022-03-12\n",
      "6          1004      Laptop  30000.0       2.0    Chennai   2022-02-25\n",
      "7          1034      Laptop  30000.0       2.0    Chennai   2022-12-22\n",
      "8          1086      Laptop  30000.0       3.0      Delhi   2022-10-23\n",
      "9          1092     Desktop  30000.0       3.0     Mumbai   2022-03-12\n",
      "10         1074      Laptop  45000.0       3.0  Bangalore   2021-08-14\n",
      "11         1017     Desktop  45000.0       3.0       Pune   2022-08-09\n",
      "12         1075     Desktop  30000.0       1.0       Pune   2021-09-28\n",
      "13         1008      Laptop  60000.0       1.0    Chennai   2021-09-13\n",
      "14         1073      Laptop  15000.0       3.0      Delhi   2021-01-01\n",
      "15         1057      Tablet  15000.0       3.0       Pune   2022-11-22\n",
      "16         1016  Smartphone  60000.0       4.0     Mumbai   2023-09-03\n",
      "17         1006      Laptop  30000.0       3.0    Chennai   2022-07-10\n",
      "18         1045      Tablet  45000.0       1.0  Bangalore   2023-01-21\n",
      "19         1012      Tablet  15000.0       3.0    Chennai   2023-07-20\n",
      "20         1039  Smartphone  30000.0       3.0  Bangalore   2021-02-15\n",
      "21         1041     Desktop  30000.0       3.0    Chennai   2021-01-01\n",
      "22         1008      Laptop  60000.0       4.0    Chennai   2021-04-16\n",
      "23         1049  Smartphone  30000.0       2.0    Chennai   2022-02-25\n",
      "24         1026      Laptop  15000.0       4.0  Bangalore   2023-03-22\n",
      "25         1065      Tablet  30000.0       4.0  Bangalore   2021-01-31\n",
      "26         1004      Tablet  15000.0       3.0    Chennai   2022-04-11\n",
      "27         1028     Desktop  60000.0       4.0       Pune   2021-05-16\n",
      "28         1036      Tablet  60000.0       1.0      Delhi   2022-05-11\n",
      "29         1037      Tablet  30000.0       3.0      Delhi   2023-03-22\n",
      "30         1082  Smartphone  30000.0       1.0      Delhi   2022-04-11\n",
      "31         1007      Laptop  30000.0       2.0  Bangalore   2023-01-06\n",
      "32         1064      Laptop  30000.0       3.0  Bangalore   2021-04-01\n",
      "33         1085  Smartphone  30000.0       2.0       Pune   2021-04-16\n",
      "34         1016     Desktop  45000.0       3.0      Delhi   2023-08-19\n",
      "35         1070      Laptop  45000.0       3.0      Delhi   2023-04-21\n",
      "36         1088      Tablet  45000.0       4.0    Chennai   2023-09-18\n",
      "37         1044      Laptop  45000.0       3.0  Bangalore   2023-05-21\n",
      "38         1003      Tablet  15000.0       2.0      Delhi   2023-12-02\n",
      "39         1035     Desktop  45000.0       4.0       Pune   2023-03-07\n",
      "40         1069  Smartphone  60000.0       3.0       Pune   2023-09-18\n",
      "41         1030      Laptop  60000.0       4.0      Delhi   2023-01-21\n",
      "42         1018  Smartphone  15000.0       1.0  Bangalore   2021-04-16\n",
      "43         1060      Laptop  45000.0       4.0       Pune   2022-05-11\n",
      "44         1053      Tablet  45000.0       1.0    Chennai   2022-05-26\n",
      "45         1038  Smartphone  45000.0       4.0       Pune   2022-04-11\n",
      "46         1090      Laptop  30000.0       1.0     Mumbai   2022-11-07\n",
      "47         1073      Tablet  30000.0       2.0     Mumbai   2021-08-14\n",
      "48         1089  Smartphone  30000.0       3.0  Bangalore   2023-10-03\n",
      "49         1018  Smartphone  30000.0       3.0      Delhi   2022-06-25\n",
      "50         1038      Laptop  45000.0       4.0  Bangalore   2023-03-07\n",
      "51         1066      Laptop  45000.0       3.0  Bangalore   2021-07-15\n",
      "52         1044      Laptop  30000.0       3.0  Bangalore   2023-03-22\n",
      "53         1012      Tablet  30000.0       3.0  Bangalore   2022-12-07\n",
      "54         1091      Laptop  30000.0       1.0    Chennai   2021-04-01\n",
      "55         1057  Smartphone  60000.0       2.0    Chennai   2021-04-01\n",
      "56         1019  Smartphone  30000.0       2.0       Pune   2022-04-26\n",
      "57         1091      Laptop  30000.0       3.0     Mumbai   2021-11-27\n",
      "58         1071      Laptop  30000.0       2.0  Bangalore   2021-09-28\n",
      "59         1060     Desktop  15000.0       4.0       Pune   2021-09-28\n",
      "60         1038  Smartphone  30000.0       2.0     Mumbai   2022-06-10\n",
      "61         1000      Tablet  15000.0       3.0      Delhi   2022-02-25\n",
      "62         1002     Desktop  60000.0       2.0    Chennai   2023-06-05\n",
      "63         1076      Laptop  30000.0       4.0     Mumbai   2021-01-16\n",
      "64         1091      Laptop  30000.0       1.0      Delhi   2021-01-01\n",
      "65         1061  Smartphone  15000.0       3.0     Mumbai   2022-11-22\n",
      "66         1062      Laptop  30000.0       1.0    Chennai   2023-10-18\n",
      "67         1024      Tablet  30000.0       1.0    Chennai   2021-10-13\n",
      "68         1055  Smartphone  45000.0       1.0       Pune   2021-05-31\n",
      "69         1032      Laptop  15000.0       3.0  Bangalore   2021-01-16\n",
      "70         1037  Smartphone  30000.0       3.0     Mumbai   2023-09-18\n",
      "71         1005      Laptop  15000.0       1.0     Mumbai   2021-06-15\n",
      "72         1057      Laptop  15000.0       3.0      Delhi   2021-10-13\n",
      "73         1043      Laptop  45000.0       4.0    Chennai   2021-03-02\n",
      "74         1044      Tablet  30000.0       4.0     Mumbai   2022-06-25\n",
      "75         1031      Tablet  15000.0       2.0    Chennai   2022-07-10\n",
      "76         1044  Smartphone  30000.0       3.0     Mumbai   2021-05-01\n",
      "77         1060      Laptop  60000.0       3.0       Pune   2023-02-20\n",
      "78         1046      Laptop  15000.0       1.0  Bangalore   2022-10-08\n",
      "79         1020      Tablet  15000.0       2.0     Mumbai   2021-12-12\n",
      "80         1079      Laptop  45000.0       4.0    Chennai   2022-03-12\n",
      "81         1084      Tablet  30000.0       3.0       Pune   2023-05-21\n",
      "82         1074      Laptop  60000.0       3.0     Mumbai   2021-07-15\n",
      "83         1035  Smartphone  30000.0       1.0      Delhi   2021-05-01\n",
      "84         1098      Laptop  60000.0       4.0  Bangalore   2022-08-09\n",
      "85         1018      Laptop  30000.0       3.0     Mumbai   2023-09-03\n",
      "86         1019     Desktop  30000.0       3.0       Pune   2021-12-27\n",
      "87         1056      Tablet  30000.0       1.0      Delhi   2023-12-17\n",
      "88         1017      Laptop  45000.0       3.0       Pune   2021-11-12\n",
      "89         1046      Laptop  45000.0       4.0       Pune   2021-02-15\n",
      "90         1048     Desktop  45000.0       3.0      Delhi   2022-01-11\n",
      "91         1013     Desktop  45000.0       3.0       Pune   2023-05-06\n",
      "92         1014      Tablet  60000.0       3.0      Delhi   2022-02-25\n",
      "93         1030     Desktop  30000.0       3.0     Mumbai   2022-06-25\n",
      "94         1000  Smartphone  30000.0       3.0      Delhi   2023-11-02\n",
      "95         1053     Desktop  30000.0       3.0      Delhi   2021-09-13\n",
      "96         1002  Smartphone  45000.0       2.0  Bangalore   2022-09-08\n",
      "97         1015      Tablet  45000.0       4.0      Delhi   2022-08-24\n",
      "98         1086      Tablet  15000.0       1.0      Delhi   2022-07-10\n",
      "99         1056      Tablet  30000.0       3.0     Mumbai   2022-05-11\n",
      "100        1074      Tablet  60000.0       2.0  Bangalore   2021-08-29\n",
      "101        1011      Tablet  30000.0       1.0    Chennai   2022-06-25\n",
      "102        1073  Smartphone  15000.0       2.0     Mumbai   2021-12-27\n",
      "103        1095  Smartphone  15000.0       3.0     Mumbai   2022-01-26\n",
      "104        1015      Tablet  30000.0       3.0    Chennai   2023-04-21\n",
      "105        1071     Desktop  60000.0       1.0      Delhi   2022-03-27\n",
      "106        1075      Laptop  15000.0       1.0       Pune   2021-03-17\n",
      "107        1023      Tablet  15000.0       1.0  Bangalore   2022-08-09\n",
      "108        1027     Desktop  30000.0       1.0       Pune   2021-06-15\n",
      "109        1007      Laptop  60000.0       1.0    Chennai   2023-02-20\n",
      "110        1091      Tablet  15000.0       2.0     Mumbai   2023-11-17\n",
      "111        1035      Tablet  60000.0       3.0     Mumbai   2021-05-16\n",
      "112        1089  Smartphone  30000.0       3.0  Bangalore   2022-10-23\n",
      "113        1007      Laptop  45000.0       3.0     Mumbai   2021-08-29\n",
      "114        1057      Laptop  15000.0       3.0     Mumbai   2022-01-11\n",
      "115        1059     Desktop  30000.0       3.0  Bangalore   2023-07-05\n",
      "116        1049  Smartphone  30000.0       2.0  Bangalore   2022-11-07\n",
      "117        1027  Smartphone  60000.0       4.0    Chennai   2023-08-04\n",
      "118        1091  Smartphone  30000.0       3.0     Mumbai   2021-01-16\n",
      "119        1040  Smartphone  15000.0       1.0     Mumbai   2023-03-07\n"
     ]
    }
   ],
   "source": [
    "print(ds.to_string())"
   ]
  },
  {
   "cell_type": "code",
   "execution_count": 31,
   "id": "ac210125-b96f-4478-9c71-9b790414dcdd",
   "metadata": {},
   "outputs": [
    {
     "name": "stdout",
     "output_type": "stream",
     "text": [
      "<class 'pandas.core.frame.DataFrame'>\n",
      "Index: 120 entries, 0 to 119\n",
      "Data columns (total 6 columns):\n",
      " #   Column        Non-Null Count  Dtype         \n",
      "---  ------        --------------  -----         \n",
      " 0   CustomerID    120 non-null    int64         \n",
      " 1   Product       120 non-null    object        \n",
      " 2   Price         120 non-null    float64       \n",
      " 3   Quantity      120 non-null    float64       \n",
      " 4   City          120 non-null    object        \n",
      " 5   PurchaseDate  120 non-null    datetime64[ns]\n",
      "dtypes: datetime64[ns](1), float64(2), int64(1), object(2)\n",
      "memory usage: 6.6+ KB\n"
     ]
    }
   ],
   "source": [
    "ds.info()"
   ]
  },
  {
   "cell_type": "code",
   "execution_count": 29,
   "id": "f243b691-74da-423a-a454-5775eb33422b",
   "metadata": {},
   "outputs": [],
   "source": [
    "ds.drop_duplicates(inplace=True)\n"
   ]
  },
  {
   "cell_type": "code",
   "execution_count": 28,
   "id": "ef655036-f690-4226-9bb6-f77299ad9a6f",
   "metadata": {},
   "outputs": [
    {
     "data": {
      "text/plain": [
       "array([1052, 1041, 1057, 1038, 1013, 1094, 1004, 1034, 1086, 1092, 1074,\n",
       "       1017, 1075, 1008, 1073, 1016, 1006, 1045, 1012, 1039, 1049, 1026,\n",
       "       1065, 1028, 1036, 1037, 1082, 1007, 1064, 1085, 1070, 1088, 1044,\n",
       "       1003, 1035, 1069, 1030, 1018, 1060, 1053, 1090, 1089, 1066, 1091,\n",
       "       1019, 1071, 1000, 1002, 1076, 1061, 1062, 1024, 1055, 1032, 1005,\n",
       "       1043, 1031, 1046, 1020, 1079, 1084, 1098, 1056, 1048, 1014, 1015,\n",
       "       1011, 1095, 1023, 1027, 1059, 1040], dtype=int64)"
      ]
     },
     "execution_count": 28,
     "metadata": {},
     "output_type": "execute_result"
    }
   ],
   "source": [
    "ds[\"CustomerID\"].unique()"
   ]
  },
  {
   "cell_type": "code",
   "execution_count": 25,
   "id": "5a134c8e-e856-4912-8058-2acba510fa19",
   "metadata": {},
   "outputs": [
    {
     "data": {
      "text/plain": [
       "48"
      ]
     },
     "execution_count": 25,
     "metadata": {},
     "output_type": "execute_result"
    }
   ],
   "source": [
    "ds[\"CustomerID\"].duplicated().sum()"
   ]
  },
  {
   "cell_type": "code",
   "execution_count": 8,
   "id": "1cead090-151b-4992-a2a7-02a4d4e64df0",
   "metadata": {},
   "outputs": [],
   "source": [
    "ds[\"Price\"]=pd.to_numeric(ds[\"Price\"],errors = 'coerce')"
   ]
  },
  {
   "cell_type": "code",
   "execution_count": 9,
   "id": "a6fd3f22-1afd-43fb-bc70-2ad018160c33",
   "metadata": {},
   "outputs": [
    {
     "name": "stderr",
     "output_type": "stream",
     "text": [
      "C:\\Users\\adity\\AppData\\Local\\Temp\\ipykernel_10680\\410612516.py:2: FutureWarning: A value is trying to be set on a copy of a DataFrame or Series through chained assignment using an inplace method.\n",
      "The behavior will change in pandas 3.0. This inplace method will never work because the intermediate object on which we are setting values always behaves as a copy.\n",
      "\n",
      "For example, when doing 'df[col].method(value, inplace=True)', try using 'df.method({col: value}, inplace=True)' or df[col] = df[col].method(value) instead, to perform the operation inplace on the original object.\n",
      "\n",
      "\n",
      "  ds[\"Price\"].fillna(x,inplace=True)\n"
     ]
    }
   ],
   "source": [
    "x=ds[\"Price\"].median()\n",
    "ds[\"Price\"].fillna(x,inplace=True)"
   ]
  },
  {
   "cell_type": "code",
   "execution_count": 10,
   "id": "18948fab-a7ec-4c56-974b-21a0530cf315",
   "metadata": {},
   "outputs": [
    {
     "data": {
      "text/plain": [
       "array([30000., 45000., 60000., 15000.])"
      ]
     },
     "execution_count": 10,
     "metadata": {},
     "output_type": "execute_result"
    }
   ],
   "source": [
    "ds[\"Price\"].unique()"
   ]
  },
  {
   "cell_type": "code",
   "execution_count": 11,
   "id": "0f85be77-7ed7-49fd-9a6a-9040d5018a0b",
   "metadata": {},
   "outputs": [
    {
     "name": "stdout",
     "output_type": "stream",
     "text": [
      "<class 'pandas.core.frame.DataFrame'>\n",
      "Index: 120 entries, 0 to 119\n",
      "Data columns (total 6 columns):\n",
      " #   Column        Non-Null Count  Dtype  \n",
      "---  ------        --------------  -----  \n",
      " 0   CustomerID    120 non-null    int64  \n",
      " 1   Product       120 non-null    object \n",
      " 2   Price         120 non-null    float64\n",
      " 3   Quantity      96 non-null     object \n",
      " 4   City          120 non-null    object \n",
      " 5   PurchaseDate  120 non-null    object \n",
      "dtypes: float64(1), int64(1), object(4)\n",
      "memory usage: 6.6+ KB\n"
     ]
    }
   ],
   "source": [
    "ds.info()\n"
   ]
  },
  {
   "cell_type": "code",
   "execution_count": 12,
   "id": "794cf542-d8e1-4c72-a068-0ea87b626916",
   "metadata": {},
   "outputs": [],
   "source": [
    "ds[\"Quantity\"]=pd.to_numeric(ds[\"Quantity\"],errors = 'coerce')"
   ]
  },
  {
   "cell_type": "code",
   "execution_count": 13,
   "id": "d31a2f10-a315-4683-b709-41a9054e5e17",
   "metadata": {},
   "outputs": [
    {
     "data": {
      "text/plain": [
       "array([ 4.,  3.,  2.,  1., nan])"
      ]
     },
     "execution_count": 13,
     "metadata": {},
     "output_type": "execute_result"
    }
   ],
   "source": [
    "ds[\"Quantity\"].unique()"
   ]
  },
  {
   "cell_type": "code",
   "execution_count": 14,
   "id": "c607da5e-0209-473b-b0e6-9dede4464ad8",
   "metadata": {},
   "outputs": [
    {
     "name": "stderr",
     "output_type": "stream",
     "text": [
      "C:\\Users\\adity\\AppData\\Local\\Temp\\ipykernel_10680\\3970296594.py:2: FutureWarning: A value is trying to be set on a copy of a DataFrame or Series through chained assignment using an inplace method.\n",
      "The behavior will change in pandas 3.0. This inplace method will never work because the intermediate object on which we are setting values always behaves as a copy.\n",
      "\n",
      "For example, when doing 'df[col].method(value, inplace=True)', try using 'df.method({col: value}, inplace=True)' or df[col] = df[col].method(value) instead, to perform the operation inplace on the original object.\n",
      "\n",
      "\n",
      "  ds[\"Quantity\"].fillna(y,inplace=True)\n"
     ]
    }
   ],
   "source": [
    "y=ds[\"Quantity\"].median()\n",
    "ds[\"Quantity\"].fillna(y,inplace=True)"
   ]
  },
  {
   "cell_type": "code",
   "execution_count": 15,
   "id": "1c042462-0757-4ec6-92c8-85db8a2aece4",
   "metadata": {},
   "outputs": [
    {
     "data": {
      "text/plain": [
       "array(['Bangalore', 'Delhi', 'Chennai', 'Mumbai', 'Pune'], dtype=object)"
      ]
     },
     "execution_count": 15,
     "metadata": {},
     "output_type": "execute_result"
    }
   ],
   "source": [
    "ds[\"City\"].unique()"
   ]
  },
  {
   "cell_type": "code",
   "execution_count": 16,
   "id": "07a35b0b-7cbf-47ca-8f21-b0e4589fba92",
   "metadata": {},
   "outputs": [],
   "source": [
    "ds[\"PurchaseDate\"]=pd.to_datetime(ds[\"PurchaseDate\"],errors = 'coerce')"
   ]
  },
  {
   "cell_type": "code",
   "execution_count": 17,
   "id": "1c8d8d21-7da0-4f3a-bc15-ba522eab5ba0",
   "metadata": {},
   "outputs": [
    {
     "name": "stdout",
     "output_type": "stream",
     "text": [
      "<class 'pandas.core.frame.DataFrame'>\n",
      "Index: 120 entries, 0 to 119\n",
      "Data columns (total 6 columns):\n",
      " #   Column        Non-Null Count  Dtype         \n",
      "---  ------        --------------  -----         \n",
      " 0   CustomerID    120 non-null    int64         \n",
      " 1   Product       120 non-null    object        \n",
      " 2   Price         120 non-null    float64       \n",
      " 3   Quantity      120 non-null    float64       \n",
      " 4   City          120 non-null    object        \n",
      " 5   PurchaseDate  120 non-null    datetime64[ns]\n",
      "dtypes: datetime64[ns](1), float64(2), int64(1), object(2)\n",
      "memory usage: 6.6+ KB\n"
     ]
    }
   ],
   "source": [
    "ds.info()"
   ]
  },
  {
   "cell_type": "code",
   "execution_count": 18,
   "id": "91c7c430-3836-4c28-ac8b-152560166012",
   "metadata": {},
   "outputs": [
    {
     "name": "stdout",
     "output_type": "stream",
     "text": [
      "     CustomerID     Product    Price  Quantity       City PurchaseDate\n",
      "0          1052     Desktop  30000.0       4.0  Bangalore   2021-06-30\n",
      "1          1041     Desktop  30000.0       3.0      Delhi   2023-01-21\n",
      "2          1057  Smartphone  30000.0       2.0  Bangalore   2023-04-06\n",
      "3          1038      Tablet  45000.0       1.0    Chennai   2023-07-05\n",
      "4          1013  Smartphone  45000.0       3.0     Mumbai   2022-04-11\n",
      "5          1094      Laptop  60000.0       3.0     Mumbai   2022-03-12\n",
      "6          1004      Laptop  30000.0       2.0    Chennai   2022-02-25\n",
      "7          1034      Laptop  30000.0       2.0    Chennai   2022-12-22\n",
      "8          1086      Laptop  30000.0       3.0      Delhi   2022-10-23\n",
      "9          1092     Desktop  30000.0       3.0     Mumbai   2022-03-12\n",
      "10         1074      Laptop  45000.0       3.0  Bangalore   2021-08-14\n",
      "11         1017     Desktop  45000.0       3.0       Pune   2022-08-09\n",
      "12         1075     Desktop  30000.0       1.0       Pune   2021-09-28\n",
      "13         1008      Laptop  60000.0       1.0    Chennai   2021-09-13\n",
      "14         1073      Laptop  15000.0       3.0      Delhi   2021-01-01\n",
      "15         1057      Tablet  15000.0       3.0       Pune   2022-11-22\n",
      "16         1016  Smartphone  60000.0       4.0     Mumbai   2023-09-03\n",
      "17         1006      Laptop  30000.0       3.0    Chennai   2022-07-10\n",
      "18         1045      Tablet  45000.0       1.0  Bangalore   2023-01-21\n",
      "19         1012      Tablet  15000.0       3.0    Chennai   2023-07-20\n",
      "20         1039  Smartphone  30000.0       3.0  Bangalore   2021-02-15\n",
      "21         1041     Desktop  30000.0       3.0    Chennai   2021-01-01\n",
      "22         1008      Laptop  60000.0       4.0    Chennai   2021-04-16\n",
      "23         1049  Smartphone  30000.0       2.0    Chennai   2022-02-25\n",
      "24         1026      Laptop  15000.0       4.0  Bangalore   2023-03-22\n",
      "25         1065      Tablet  30000.0       4.0  Bangalore   2021-01-31\n",
      "26         1004      Tablet  15000.0       3.0    Chennai   2022-04-11\n",
      "27         1028     Desktop  60000.0       4.0       Pune   2021-05-16\n",
      "28         1036      Tablet  60000.0       1.0      Delhi   2022-05-11\n",
      "29         1037      Tablet  30000.0       3.0      Delhi   2023-03-22\n",
      "30         1082  Smartphone  30000.0       1.0      Delhi   2022-04-11\n",
      "31         1007      Laptop  30000.0       2.0  Bangalore   2023-01-06\n",
      "32         1064      Laptop  30000.0       3.0  Bangalore   2021-04-01\n",
      "33         1085  Smartphone  30000.0       2.0       Pune   2021-04-16\n",
      "34         1016     Desktop  45000.0       3.0      Delhi   2023-08-19\n",
      "35         1070      Laptop  45000.0       3.0      Delhi   2023-04-21\n",
      "36         1088      Tablet  45000.0       4.0    Chennai   2023-09-18\n",
      "37         1044      Laptop  45000.0       3.0  Bangalore   2023-05-21\n",
      "38         1003      Tablet  15000.0       2.0      Delhi   2023-12-02\n",
      "39         1035     Desktop  45000.0       4.0       Pune   2023-03-07\n",
      "40         1069  Smartphone  60000.0       3.0       Pune   2023-09-18\n",
      "41         1030      Laptop  60000.0       4.0      Delhi   2023-01-21\n",
      "42         1018  Smartphone  15000.0       1.0  Bangalore   2021-04-16\n",
      "43         1060      Laptop  45000.0       4.0       Pune   2022-05-11\n",
      "44         1053      Tablet  45000.0       1.0    Chennai   2022-05-26\n",
      "45         1038  Smartphone  45000.0       4.0       Pune   2022-04-11\n",
      "46         1090      Laptop  30000.0       1.0     Mumbai   2022-11-07\n",
      "47         1073      Tablet  30000.0       2.0     Mumbai   2021-08-14\n",
      "48         1089  Smartphone  30000.0       3.0  Bangalore   2023-10-03\n",
      "49         1018  Smartphone  30000.0       3.0      Delhi   2022-06-25\n",
      "50         1038      Laptop  45000.0       4.0  Bangalore   2023-03-07\n",
      "51         1066      Laptop  45000.0       3.0  Bangalore   2021-07-15\n",
      "52         1044      Laptop  30000.0       3.0  Bangalore   2023-03-22\n",
      "53         1012      Tablet  30000.0       3.0  Bangalore   2022-12-07\n",
      "54         1091      Laptop  30000.0       1.0    Chennai   2021-04-01\n",
      "55         1057  Smartphone  60000.0       2.0    Chennai   2021-04-01\n",
      "56         1019  Smartphone  30000.0       2.0       Pune   2022-04-26\n",
      "57         1091      Laptop  30000.0       3.0     Mumbai   2021-11-27\n",
      "58         1071      Laptop  30000.0       2.0  Bangalore   2021-09-28\n",
      "59         1060     Desktop  15000.0       4.0       Pune   2021-09-28\n",
      "60         1038  Smartphone  30000.0       2.0     Mumbai   2022-06-10\n",
      "61         1000      Tablet  15000.0       3.0      Delhi   2022-02-25\n",
      "62         1002     Desktop  60000.0       2.0    Chennai   2023-06-05\n",
      "63         1076      Laptop  30000.0       4.0     Mumbai   2021-01-16\n",
      "64         1091      Laptop  30000.0       1.0      Delhi   2021-01-01\n",
      "65         1061  Smartphone  15000.0       3.0     Mumbai   2022-11-22\n",
      "66         1062      Laptop  30000.0       1.0    Chennai   2023-10-18\n",
      "67         1024      Tablet  30000.0       1.0    Chennai   2021-10-13\n",
      "68         1055  Smartphone  45000.0       1.0       Pune   2021-05-31\n",
      "69         1032      Laptop  15000.0       3.0  Bangalore   2021-01-16\n",
      "70         1037  Smartphone  30000.0       3.0     Mumbai   2023-09-18\n",
      "71         1005      Laptop  15000.0       1.0     Mumbai   2021-06-15\n",
      "72         1057      Laptop  15000.0       3.0      Delhi   2021-10-13\n",
      "73         1043      Laptop  45000.0       4.0    Chennai   2021-03-02\n",
      "74         1044      Tablet  30000.0       4.0     Mumbai   2022-06-25\n",
      "75         1031      Tablet  15000.0       2.0    Chennai   2022-07-10\n",
      "76         1044  Smartphone  30000.0       3.0     Mumbai   2021-05-01\n",
      "77         1060      Laptop  60000.0       3.0       Pune   2023-02-20\n",
      "78         1046      Laptop  15000.0       1.0  Bangalore   2022-10-08\n",
      "79         1020      Tablet  15000.0       2.0     Mumbai   2021-12-12\n",
      "80         1079      Laptop  45000.0       4.0    Chennai   2022-03-12\n",
      "81         1084      Tablet  30000.0       3.0       Pune   2023-05-21\n",
      "82         1074      Laptop  60000.0       3.0     Mumbai   2021-07-15\n",
      "83         1035  Smartphone  30000.0       1.0      Delhi   2021-05-01\n",
      "84         1098      Laptop  60000.0       4.0  Bangalore   2022-08-09\n",
      "85         1018      Laptop  30000.0       3.0     Mumbai   2023-09-03\n",
      "86         1019     Desktop  30000.0       3.0       Pune   2021-12-27\n",
      "87         1056      Tablet  30000.0       1.0      Delhi   2023-12-17\n",
      "88         1017      Laptop  45000.0       3.0       Pune   2021-11-12\n",
      "89         1046      Laptop  45000.0       4.0       Pune   2021-02-15\n",
      "90         1048     Desktop  45000.0       3.0      Delhi   2022-01-11\n",
      "91         1013     Desktop  45000.0       3.0       Pune   2023-05-06\n",
      "92         1014      Tablet  60000.0       3.0      Delhi   2022-02-25\n",
      "93         1030     Desktop  30000.0       3.0     Mumbai   2022-06-25\n",
      "94         1000  Smartphone  30000.0       3.0      Delhi   2023-11-02\n",
      "95         1053     Desktop  30000.0       3.0      Delhi   2021-09-13\n",
      "96         1002  Smartphone  45000.0       2.0  Bangalore   2022-09-08\n",
      "97         1015      Tablet  45000.0       4.0      Delhi   2022-08-24\n",
      "98         1086      Tablet  15000.0       1.0      Delhi   2022-07-10\n",
      "99         1056      Tablet  30000.0       3.0     Mumbai   2022-05-11\n",
      "100        1074      Tablet  60000.0       2.0  Bangalore   2021-08-29\n",
      "101        1011      Tablet  30000.0       1.0    Chennai   2022-06-25\n",
      "102        1073  Smartphone  15000.0       2.0     Mumbai   2021-12-27\n",
      "103        1095  Smartphone  15000.0       3.0     Mumbai   2022-01-26\n",
      "104        1015      Tablet  30000.0       3.0    Chennai   2023-04-21\n",
      "105        1071     Desktop  60000.0       1.0      Delhi   2022-03-27\n",
      "106        1075      Laptop  15000.0       1.0       Pune   2021-03-17\n",
      "107        1023      Tablet  15000.0       1.0  Bangalore   2022-08-09\n",
      "108        1027     Desktop  30000.0       1.0       Pune   2021-06-15\n",
      "109        1007      Laptop  60000.0       1.0    Chennai   2023-02-20\n",
      "110        1091      Tablet  15000.0       2.0     Mumbai   2023-11-17\n",
      "111        1035      Tablet  60000.0       3.0     Mumbai   2021-05-16\n",
      "112        1089  Smartphone  30000.0       3.0  Bangalore   2022-10-23\n",
      "113        1007      Laptop  45000.0       3.0     Mumbai   2021-08-29\n",
      "114        1057      Laptop  15000.0       3.0     Mumbai   2022-01-11\n",
      "115        1059     Desktop  30000.0       3.0  Bangalore   2023-07-05\n",
      "116        1049  Smartphone  30000.0       2.0  Bangalore   2022-11-07\n",
      "117        1027  Smartphone  60000.0       4.0    Chennai   2023-08-04\n",
      "118        1091  Smartphone  30000.0       3.0     Mumbai   2021-01-16\n",
      "119        1040  Smartphone  15000.0       1.0     Mumbai   2023-03-07\n"
     ]
    }
   ],
   "source": [
    "print(ds.to_string())"
   ]
  },
  {
   "cell_type": "code",
   "execution_count": 19,
   "id": "4f575022-3585-4717-864b-ca6e1bd16874",
   "metadata": {},
   "outputs": [],
   "source": [
    "ds.to_csv(\"CleanedData2.csv\")"
   ]
  },
  {
   "cell_type": "code",
   "execution_count": null,
   "id": "d170eba9-4868-41a7-91ac-59edfe50335b",
   "metadata": {},
   "outputs": [],
   "source": []
  }
 ],
 "metadata": {
  "kernelspec": {
   "display_name": "Python [conda env:base] *",
   "language": "python",
   "name": "conda-base-py"
  },
  "language_info": {
   "codemirror_mode": {
    "name": "ipython",
    "version": 3
   },
   "file_extension": ".py",
   "mimetype": "text/x-python",
   "name": "python",
   "nbconvert_exporter": "python",
   "pygments_lexer": "ipython3",
   "version": "3.12.7"
  }
 },
 "nbformat": 4,
 "nbformat_minor": 5
}
